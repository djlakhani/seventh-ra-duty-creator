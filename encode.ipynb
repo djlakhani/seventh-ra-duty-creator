{
 "cells": [
  {
   "cell_type": "markdown",
   "metadata": {},
   "source": [
    "## Encoding of Availability Dataset\n",
    "\n",
    "The orignal dataset containing the availability of each Resident Assistant (RA) was obtained from the Google Form responses submitted by the RA team. To protect data privacy,\\\n",
    "the following code will encode the dataset. For this demo, identiyfing information such as emails, names, and schedule links will be removed."
   ]
  },
  {
   "cell_type": "code",
   "execution_count": 2,
   "metadata": {},
   "outputs": [],
   "source": [
    "import pandas as pd\n",
    "import numpy as np"
   ]
  },
  {
   "cell_type": "code",
   "execution_count": 3,
   "metadata": {},
   "outputs": [],
   "source": [
    "# load the availability dataset\n",
    "# 'copy_seventh_RA_duty_availability.csv' refers to the file of the Google Form responses containing availability of individual RAs\n",
    "\n",
    "avail = pd.read_csv('copy_seventh_RA_duty_availability.csv')\n",
    "avail = pd.DataFrame(avail)"
   ]
  },
  {
   "cell_type": "code",
   "execution_count": 4,
   "metadata": {},
   "outputs": [],
   "source": [
    "# removing identifying information columns\n",
    "avail.drop('Upload a screenshot of your WebReg schedule for Winter 2024.', axis=1, inplace=True)\n",
    "avail.drop('Timestamp', axis=1, inplace=True)\n",
    "avail.drop('Email Address', axis=1, inplace=True)\n",
    "avail.drop('First Name', axis=1, inplace=True)\n",
    "avail.drop('Last Name', axis=1, inplace=True)"
   ]
  },
  {
   "cell_type": "code",
   "execution_count": 10,
   "metadata": {},
   "outputs": [],
   "source": [
    "# assiging each RA an index number (code) of the form 'RA#i' where #i is the index number\n",
    "codes = [f'RA{i}' for i in range(1, 43)]\n",
    "avail = avail.assign(code_name = codes)\n",
    "avail = avail[['code_name', 'Shifts', \\\n",
    "               'Unavailable']]"
   ]
  },
  {
   "cell_type": "code",
   "execution_count": 11,
   "metadata": {},
   "outputs": [
    {
     "name": "stdout",
     "output_type": "stream",
     "text": [
      "(42, 3)\n"
     ]
    },
    {
     "data": {
      "text/html": [
       "<div>\n",
       "<style scoped>\n",
       "    .dataframe tbody tr th:only-of-type {\n",
       "        vertical-align: middle;\n",
       "    }\n",
       "\n",
       "    .dataframe tbody tr th {\n",
       "        vertical-align: top;\n",
       "    }\n",
       "\n",
       "    .dataframe thead th {\n",
       "        text-align: right;\n",
       "    }\n",
       "</style>\n",
       "<table border=\"1\" class=\"dataframe\">\n",
       "  <thead>\n",
       "    <tr style=\"text-align: right;\">\n",
       "      <th></th>\n",
       "      <th>code_name</th>\n",
       "      <th>Shifts</th>\n",
       "      <th>Unavailable</th>\n",
       "    </tr>\n",
       "  </thead>\n",
       "  <tbody>\n",
       "    <tr>\n",
       "      <th>0</th>\n",
       "      <td>RA1</td>\n",
       "      <td>Monday 6 PM - 11 PM, Tuesday 6 PM - 11 PM, Wed...</td>\n",
       "      <td>NaN</td>\n",
       "    </tr>\n",
       "    <tr>\n",
       "      <th>1</th>\n",
       "      <td>RA2</td>\n",
       "      <td>Monday 6 PM - 11 PM, Tuesday 6 PM - 11 PM, Wed...</td>\n",
       "      <td>NaN</td>\n",
       "    </tr>\n",
       "    <tr>\n",
       "      <th>2</th>\n",
       "      <td>RA3</td>\n",
       "      <td>Thursday 6 PM - 11 PM, Friday 6 PM - 11 PM, Sa...</td>\n",
       "      <td>01-28-2024</td>\n",
       "    </tr>\n",
       "    <tr>\n",
       "      <th>3</th>\n",
       "      <td>RA4</td>\n",
       "      <td>Wednesday 6 PM - 11 PM, Friday 6 PM - 11 PM, S...</td>\n",
       "      <td>01-06-2024</td>\n",
       "    </tr>\n",
       "    <tr>\n",
       "      <th>4</th>\n",
       "      <td>RA5</td>\n",
       "      <td>Tuesday 6 PM - 11 PM, Thursday 6 PM - 11 PM, S...</td>\n",
       "      <td>01-27-2024</td>\n",
       "    </tr>\n",
       "  </tbody>\n",
       "</table>\n",
       "</div>"
      ],
      "text/plain": [
       "  code_name                                             Shifts Unavailable\n",
       "0       RA1  Monday 6 PM - 11 PM, Tuesday 6 PM - 11 PM, Wed...         NaN\n",
       "1       RA2  Monday 6 PM - 11 PM, Tuesday 6 PM - 11 PM, Wed...         NaN\n",
       "2       RA3  Thursday 6 PM - 11 PM, Friday 6 PM - 11 PM, Sa...  01-28-2024\n",
       "3       RA4  Wednesday 6 PM - 11 PM, Friday 6 PM - 11 PM, S...  01-06-2024\n",
       "4       RA5  Tuesday 6 PM - 11 PM, Thursday 6 PM - 11 PM, S...  01-27-2024"
      ]
     },
     "execution_count": 11,
     "metadata": {},
     "output_type": "execute_result"
    }
   ],
   "source": [
    "# this is the dataset we will use to create our duty schedule\n",
    "# code_name here would actually refer to RA Name\n",
    "print(avail.shape)\n",
    "avail.head()"
   ]
  },
  {
   "cell_type": "code",
   "execution_count": 12,
   "metadata": {},
   "outputs": [],
   "source": [
    "# converting dataframe to input CSV file\n",
    "avail.to_csv('RA_availability', index=False)"
   ]
  },
  {
   "cell_type": "code",
   "execution_count": null,
   "metadata": {},
   "outputs": [],
   "source": []
  }
 ],
 "metadata": {
  "kernelspec": {
   "display_name": "dsc80",
   "language": "python",
   "name": "python3"
  },
  "language_info": {
   "codemirror_mode": {
    "name": "ipython",
    "version": 3
   },
   "file_extension": ".py",
   "mimetype": "text/x-python",
   "name": "python",
   "nbconvert_exporter": "python",
   "pygments_lexer": "ipython3",
   "version": "3.8.18"
  },
  "orig_nbformat": 4
 },
 "nbformat": 4,
 "nbformat_minor": 2
}
